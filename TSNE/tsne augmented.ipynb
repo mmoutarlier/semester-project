{
 "cells": [
  {
   "cell_type": "markdown",
   "metadata": {},
   "source": [
    "T-SNE and visualisation of the video reconstruction "
   ]
  },
  {
   "cell_type": "code",
   "execution_count": 1,
   "metadata": {},
   "outputs": [],
   "source": [
    "# Load the required libraries\n",
    "\n",
    "import numpy as np\n",
    "from sklearn.manifold import TSNE\n",
    "import matplotlib.pyplot as plt\n",
    "import matplotlib.cm as cm\n",
    "from datetime import datetime\n",
    "import os\n",
    "\n",
    "import math\n",
    "\n",
    "import torch\n",
    "from torch import nn\n",
    "\n",
    "import cv2 \n"
   ]
  },
  {
   "cell_type": "markdown",
   "metadata": {},
   "source": [
    "The data for the cnn is going to be: \n",
    "- [batch size, T, HxW, 4096]\n",
    "- This will be printed out 40 times for each for the 40 epochs and x number of videos for each of the epochs\n",
    "- We will only visualize the first video "
   ]
  },
  {
   "cell_type": "code",
   "execution_count": null,
   "metadata": {},
   "outputs": [
    {
     "name": "stdout",
     "output_type": "stream",
     "text": [
      "(64, 6, 4096, 128)\n",
      "64 6 4096 128\n",
      "(49152, 4096)\n",
      "[t-SNE] Computing 121 nearest neighbors...\n",
      "[t-SNE] Indexed 49152 samples in 0.025s...\n"
     ]
    },
    {
     "name": "stderr",
     "output_type": "stream",
     "text": [
      "/Users/marinemoutarlier/miniconda3/envs/sklearn-env/lib/python3.13/site-packages/sklearn/manifold/_t_sne.py:1162: FutureWarning: 'n_iter' was renamed to 'max_iter' in version 1.5 and will be removed in 1.7.\n",
      "  warnings.warn(\n"
     ]
    }
   ],
   "source": [
    "# Load the slots data from the .npy files, and read it \n",
    "folder = \"/Users/marinemoutarlier/Desktop/savi_augmented_tsne_npy\" # Change this to the folder containing the .npy files\n",
    "\n",
    "def extract_numeric_value(filename):\n",
    "    return int(''.join(filter(str.isdigit, filename)))\n",
    "\n",
    "\n",
    "files = sorted(os.listdir(folder), key=extract_numeric_value)\n",
    "print(\"Found the following files:\", files)  # Debugging line to check the loaded filenames\n",
    "\n",
    "for filename in files:\n",
    "    if filename.startswith(\"encoder_out\"):\n",
    "        data_cnn = np.load(os.path.join(folder, filename))\n",
    "        print(data_cnn.shape)\n",
    "        B,T, D, HW = data_cnn.shape\n",
    "        print (B, T, D, HW)\n",
    "\n",
    "        data = data_cnn.reshape(B*T*HW, D)\n",
    "        print (data.shape)\n",
    "\n",
    "        device = torch.device(\"mps:0\")\n",
    "\n",
    "\n",
    "        # Perform t-SNE embedding on the data\n",
    "\n",
    "        tsne = TSNE(n_components=2, verbose=1, perplexity=40, n_iter=300)\n",
    "        tsne_results = tsne.fit_transform(data)\n",
    "\n",
    "        # Perform t-SNE\n",
    "            \n",
    "        # Plotting\n",
    "        plt.figure(figsize=(8, 8))\n",
    "        plt.scatter(tsne_results[:, 0], tsne_results[:, 1], s=30, alpha=0.6)\n",
    "\n",
    "        plt.title('t-SNE Visualization of CNN Features')\n",
    "        plt.xlabel('t-SNE Component 1')\n",
    "        plt.ylabel('t-SNE Component 2')\n",
    "\n",
    "        # Generate a unique filename using the current timestamp\n",
    "        timestamp = datetime.now().strftime('%Y%m%d_%H%M%S')\n",
    "        save_path = f'./savi_augmented_tsne_cnn/cnn_features_tsne_{timestamp}.png'\n",
    "        os.makedirs(os.path.dirname(save_path), exist_ok=True)\n",
    "                \n",
    "        plt.savefig(save_path)\n",
    "        plt.close()\n",
    "\n",
    "        print(f\"t-SNE plot saved to: {save_path}\")\n",
    "\n",
    "    \n",
    "\n",
    "\n",
    "\n",
    "\n",
    "\n",
    "\n"
   ]
  },
  {
   "cell_type": "code",
   "execution_count": 46,
   "metadata": {},
   "outputs": [],
   "source": [
    "# create a random numpy of the same size as the data the shape of the np is (batch_size, 50,128x128, 4096)\n",
    "#data_cnn = np.random.rand(48, 128*128, 4096)\n"
   ]
  },
  {
   "cell_type": "code",
   "execution_count": 9,
   "metadata": {},
   "outputs": [
    {
     "name": "stdout",
     "output_type": "stream",
     "text": [
      "post_slots_0.npy\n",
      "(384, 6, 128)\n",
      "[t-SNE] Computing 121 nearest neighbors...\n",
      "[t-SNE] Indexed 2304 samples in 0.005s...\n",
      "[t-SNE] Computed neighbors for 2304 samples in 0.056s...\n",
      "[t-SNE] Computed conditional probabilities for sample 1000 / 2304\n",
      "[t-SNE] Computed conditional probabilities for sample 2000 / 2304\n",
      "[t-SNE] Computed conditional probabilities for sample 2304 / 2304\n",
      "[t-SNE] Mean sigma: 1.366272\n"
     ]
    },
    {
     "name": "stderr",
     "output_type": "stream",
     "text": [
      "/Users/marinemoutarlier/miniconda3/envs/sklearn-env/lib/python3.13/site-packages/sklearn/manifold/_t_sne.py:1162: FutureWarning: 'n_iter' was renamed to 'max_iter' in version 1.5 and will be removed in 1.7.\n",
      "  warnings.warn(\n"
     ]
    },
    {
     "name": "stdout",
     "output_type": "stream",
     "text": [
      "[t-SNE] KL divergence after 250 iterations with early exaggeration: 74.298546\n",
      "[t-SNE] KL divergence after 300 iterations: 3.697776\n"
     ]
    },
    {
     "name": "stderr",
     "output_type": "stream",
     "text": [
      "/var/folders/hy/1mkphk7j47n15fk8p9j53cg00000gn/T/ipykernel_49335/3356065335.py:25: MatplotlibDeprecationWarning: The get_cmap function was deprecated in Matplotlib 3.7 and will be removed in 3.11. Use ``matplotlib.colormaps[name]`` or ``matplotlib.colormaps.get_cmap()`` or ``pyplot.get_cmap()`` instead.\n",
      "  colors = cm.get_cmap('tab10', num_slots)\n",
      "/Users/marinemoutarlier/miniconda3/envs/sklearn-env/lib/python3.13/site-packages/sklearn/manifold/_t_sne.py:1162: FutureWarning: 'n_iter' was renamed to 'max_iter' in version 1.5 and will be removed in 1.7.\n",
      "  warnings.warn(\n"
     ]
    },
    {
     "name": "stdout",
     "output_type": "stream",
     "text": [
      "t-SNE plot saved to: ./savi_tsne_slots/slot_features_tsne_20241125_151936.png\n",
      "post_slots_4106.npy\n",
      "(192, 6, 128)\n",
      "[t-SNE] Computing 121 nearest neighbors...\n",
      "[t-SNE] Indexed 1152 samples in 0.000s...\n",
      "[t-SNE] Computed neighbors for 1152 samples in 0.013s...\n",
      "[t-SNE] Computed conditional probabilities for sample 1000 / 1152\n",
      "[t-SNE] Computed conditional probabilities for sample 1152 / 1152\n",
      "[t-SNE] Mean sigma: 0.565915\n",
      "[t-SNE] KL divergence after 250 iterations with early exaggeration: 46.207642\n",
      "[t-SNE] KL divergence after 300 iterations: 0.488895\n",
      "t-SNE plot saved to: ./savi_tsne_slots/slot_features_tsne_20241125_151937.png\n"
     ]
    },
    {
     "name": "stderr",
     "output_type": "stream",
     "text": [
      "/var/folders/hy/1mkphk7j47n15fk8p9j53cg00000gn/T/ipykernel_49335/3356065335.py:25: MatplotlibDeprecationWarning: The get_cmap function was deprecated in Matplotlib 3.7 and will be removed in 3.11. Use ``matplotlib.colormaps[name]`` or ``matplotlib.colormaps.get_cmap()`` or ``pyplot.get_cmap()`` instead.\n",
      "  colors = cm.get_cmap('tab10', num_slots)\n"
     ]
    }
   ],
   "source": [
    "# load a folder and go through all the files in the folder that are named post_slots_i.npy\n",
    "\n",
    "# Compute the t-SNE embedding on the slot data \n",
    "# the shape of the np is (batch_size, 50, 6, 128)\n",
    "# Perform t-SNE embedding on the data, with batch size x 50 x6 as the number of data points and 128 as the number of dimensions\n",
    "\n",
    "# Reshape the data to have the batch size x 50 x 6 as the number of data points and 128 as the number of dimensions\n",
    "folder = \"/Users/marinemoutarlier/Desktop/savi_augmented_tsne_npy\" # Change this to the folder containing the .npy files\n",
    "def extract_numeric_value(filename):\n",
    "    return int(''.join(filter(str.isdigit, filename)))\n",
    "\n",
    "# Loop through the files in the folder, sorted by numeric values\n",
    "files = sorted(os.listdir(folder), key=extract_numeric_value)\n",
    "print(\"Found the following files:\", files)  # Debugging line to check the loaded filenames\n",
    "\n",
    "for filename in files:\n",
    "    if filename.startswith(\"post_slots_\"):\n",
    "        print(filename)\n",
    "        data_slots = np.load(os.path.join(folder, filename))\n",
    "        print(data_slots.shape)\n",
    "        B, S, D = data_slots.shape\n",
    "        data_2 = data_slots.reshape(B*S, D)\n",
    "\n",
    "        # Perform t-SNE embedding on the data\n",
    "\n",
    "        tsne = TSNE(n_components=2, verbose=1, perplexity=40, n_iter=300)\n",
    "        tsne_results = tsne.fit_transform(data_2)\n",
    "\n",
    "        # Perform t-SNE\n",
    "        # Generate colors: one for each slot\n",
    "        num_slots = 6\n",
    "        colors = cm.get_cmap('tab10', num_slots)  \n",
    "        slot_colors = [colors(i) for i in range(num_slots)]\n",
    "                    \n",
    "        # Plotting\n",
    "        plt.figure(figsize=(8, 8))\n",
    "        for i in range(num_slots):\n",
    "            slot_indices = np.arange(i, B*S, num_slots)\n",
    "            plt.scatter(tsne_results[slot_indices, 0], tsne_results[slot_indices, 1], s=30, alpha=0.6, label=f'Slot {i+1}', color=slot_colors[i])\n",
    "                    \n",
    "        # Add title and labels\n",
    "        plt.title('t-SNE Visualization of Slot Features')\n",
    "        plt.xlabel('t-SNE Component 1')\n",
    "        plt.ylabel('t-SNE Component 2')\n",
    "        plt.legend(loc='best')\n",
    "                    \n",
    "        # Save the plot\n",
    "        timestamp = datetime.now().strftime('%Y%m%d_%H%M%S')\n",
    "        save_path = f'./savi_augmented_tsne_slots/slot_features_tsne_{timestamp}.png'\n",
    "        os.makedirs(os.path.dirname(save_path), exist_ok=True)\n",
    "        plt.savefig(save_path)\n",
    "        plt.close()\n",
    "                    \n",
    "        print(f\"t-SNE plot saved to: {save_path}\")\n",
    "\n",
    "\n"
   ]
  }
 ],
 "metadata": {
  "kernelspec": {
   "display_name": "sklearn-env",
   "language": "python",
   "name": "python3"
  },
  "language_info": {
   "codemirror_mode": {
    "name": "ipython",
    "version": 3
   },
   "file_extension": ".py",
   "mimetype": "text/x-python",
   "name": "python",
   "nbconvert_exporter": "python",
   "pygments_lexer": "ipython3",
   "version": "3.13.0"
  }
 },
 "nbformat": 4,
 "nbformat_minor": 2
}
