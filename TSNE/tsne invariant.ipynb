{
 "cells": [
  {
   "cell_type": "markdown",
   "metadata": {},
   "source": [
    "T-SNE and visualisation of the video reconstruction "
   ]
  },
  {
   "cell_type": "code",
   "execution_count": 1,
   "metadata": {},
   "outputs": [],
   "source": [
    "# Load the required libraries\n",
    "\n",
    "import numpy as np\n",
    "from sklearn.manifold import TSNE\n",
    "import matplotlib.pyplot as plt\n",
    "import matplotlib.cm as cm\n",
    "from datetime import datetime\n",
    "import os\n",
    "\n",
    "import math\n",
    "\n",
    "import torch\n",
    "from torch import nn\n",
    "\n",
    "import cv2 \n"
   ]
  },
  {
   "cell_type": "markdown",
   "metadata": {},
   "source": [
    "The data for the cnn is going to be: \n",
    "- [batch size, T, HxW, 4096]\n",
    "- This will be printed out 40 times for each for the 40 epochs and x number of videos for each of the epochs\n",
    "- We will only visualize the first video "
   ]
  },
  {
   "cell_type": "code",
   "execution_count": 2,
   "metadata": {},
   "outputs": [
    {
     "name": "stdout",
     "output_type": "stream",
     "text": [
      "Found the following files: ['post_slots_0.npy', 'encoder_out_0.npy', 'post_slots_4106.npy', 'encoder_out_4106.npy', 'post_slots_8212.npy', 'encoder_out_8212.npy', 'encoder_out_12318.npy', 'post_slots_12318.npy', 'encoder_out_16424.npy', 'post_slots_16424.npy', 'encoder_out_20530.npy', 'post_slots_20530.npy', 'encoder_out_24636.npy', 'post_slots_24636.npy', 'encoder_out_28742.npy', 'post_slots_28742.npy', 'encoder_out_32848.npy', 'post_slots_32848.npy', 'post_slots_36954.npy', 'encoder_out_36954.npy', 'encoder_out_41060.npy']\n",
      "(64, 6, 4096, 128)\n",
      "64 6 4096 128\n",
      "(49152, 4096)\n"
     ]
    },
    {
     "name": "stderr",
     "output_type": "stream",
     "text": [
      "/Users/marinemoutarlier/miniconda3/envs/sklearn-env/lib/python3.13/site-packages/sklearn/manifold/_t_sne.py:1162: FutureWarning: 'n_iter' was renamed to 'max_iter' in version 1.5 and will be removed in 1.7.\n",
      "  warnings.warn(\n"
     ]
    },
    {
     "name": "stdout",
     "output_type": "stream",
     "text": [
      "[t-SNE] Computing 121 nearest neighbors...\n",
      "[t-SNE] Indexed 49152 samples in 0.107s...\n",
      "[t-SNE] Computed neighbors for 49152 samples in 270.367s...\n",
      "[t-SNE] Computed conditional probabilities for sample 1000 / 49152\n",
      "[t-SNE] Computed conditional probabilities for sample 2000 / 49152\n",
      "[t-SNE] Computed conditional probabilities for sample 3000 / 49152\n",
      "[t-SNE] Computed conditional probabilities for sample 4000 / 49152\n",
      "[t-SNE] Computed conditional probabilities for sample 5000 / 49152\n",
      "[t-SNE] Computed conditional probabilities for sample 6000 / 49152\n",
      "[t-SNE] Computed conditional probabilities for sample 7000 / 49152\n",
      "[t-SNE] Computed conditional probabilities for sample 8000 / 49152\n",
      "[t-SNE] Computed conditional probabilities for sample 9000 / 49152\n",
      "[t-SNE] Computed conditional probabilities for sample 10000 / 49152\n",
      "[t-SNE] Computed conditional probabilities for sample 11000 / 49152\n",
      "[t-SNE] Computed conditional probabilities for sample 12000 / 49152\n",
      "[t-SNE] Computed conditional probabilities for sample 13000 / 49152\n",
      "[t-SNE] Computed conditional probabilities for sample 14000 / 49152\n",
      "[t-SNE] Computed conditional probabilities for sample 15000 / 49152\n",
      "[t-SNE] Computed conditional probabilities for sample 16000 / 49152\n",
      "[t-SNE] Computed conditional probabilities for sample 17000 / 49152\n",
      "[t-SNE] Computed conditional probabilities for sample 18000 / 49152\n",
      "[t-SNE] Computed conditional probabilities for sample 19000 / 49152\n",
      "[t-SNE] Computed conditional probabilities for sample 20000 / 49152\n",
      "[t-SNE] Computed conditional probabilities for sample 21000 / 49152\n",
      "[t-SNE] Computed conditional probabilities for sample 22000 / 49152\n",
      "[t-SNE] Computed conditional probabilities for sample 23000 / 49152\n",
      "[t-SNE] Computed conditional probabilities for sample 24000 / 49152\n",
      "[t-SNE] Computed conditional probabilities for sample 25000 / 49152\n",
      "[t-SNE] Computed conditional probabilities for sample 26000 / 49152\n",
      "[t-SNE] Computed conditional probabilities for sample 27000 / 49152\n",
      "[t-SNE] Computed conditional probabilities for sample 28000 / 49152\n",
      "[t-SNE] Computed conditional probabilities for sample 29000 / 49152\n",
      "[t-SNE] Computed conditional probabilities for sample 30000 / 49152\n",
      "[t-SNE] Computed conditional probabilities for sample 31000 / 49152\n",
      "[t-SNE] Computed conditional probabilities for sample 32000 / 49152\n",
      "[t-SNE] Computed conditional probabilities for sample 33000 / 49152\n",
      "[t-SNE] Computed conditional probabilities for sample 34000 / 49152\n",
      "[t-SNE] Computed conditional probabilities for sample 35000 / 49152\n",
      "[t-SNE] Computed conditional probabilities for sample 36000 / 49152\n",
      "[t-SNE] Computed conditional probabilities for sample 37000 / 49152\n",
      "[t-SNE] Computed conditional probabilities for sample 38000 / 49152\n",
      "[t-SNE] Computed conditional probabilities for sample 39000 / 49152\n",
      "[t-SNE] Computed conditional probabilities for sample 40000 / 49152\n",
      "[t-SNE] Computed conditional probabilities for sample 41000 / 49152\n",
      "[t-SNE] Computed conditional probabilities for sample 42000 / 49152\n",
      "[t-SNE] Computed conditional probabilities for sample 43000 / 49152\n",
      "[t-SNE] Computed conditional probabilities for sample 44000 / 49152\n",
      "[t-SNE] Computed conditional probabilities for sample 45000 / 49152\n",
      "[t-SNE] Computed conditional probabilities for sample 46000 / 49152\n",
      "[t-SNE] Computed conditional probabilities for sample 47000 / 49152\n",
      "[t-SNE] Computed conditional probabilities for sample 48000 / 49152\n",
      "[t-SNE] Computed conditional probabilities for sample 49000 / 49152\n",
      "[t-SNE] Computed conditional probabilities for sample 49152 / 49152\n",
      "[t-SNE] Mean sigma: 0.001395\n",
      "[t-SNE] KL divergence after 250 iterations with early exaggeration: 73.151711\n",
      "[t-SNE] KL divergence after 300 iterations: 3.049049\n",
      "t-SNE plot saved to: ./invariant_tsne_cnn/cnn_features_tsne_20241126_111550.png\n",
      "(32, 6, 4096, 128)\n",
      "32 6 4096 128\n",
      "(24576, 4096)\n"
     ]
    },
    {
     "name": "stderr",
     "output_type": "stream",
     "text": [
      "/Users/marinemoutarlier/miniconda3/envs/sklearn-env/lib/python3.13/site-packages/sklearn/manifold/_t_sne.py:1162: FutureWarning: 'n_iter' was renamed to 'max_iter' in version 1.5 and will be removed in 1.7.\n",
      "  warnings.warn(\n"
     ]
    },
    {
     "name": "stdout",
     "output_type": "stream",
     "text": [
      "[t-SNE] Computing 121 nearest neighbors...\n",
      "[t-SNE] Indexed 24576 samples in 0.020s...\n",
      "[t-SNE] Computed neighbors for 24576 samples in 54.199s...\n",
      "[t-SNE] Computed conditional probabilities for sample 1000 / 24576\n",
      "[t-SNE] Computed conditional probabilities for sample 2000 / 24576\n",
      "[t-SNE] Computed conditional probabilities for sample 3000 / 24576\n",
      "[t-SNE] Computed conditional probabilities for sample 4000 / 24576\n",
      "[t-SNE] Computed conditional probabilities for sample 5000 / 24576\n",
      "[t-SNE] Computed conditional probabilities for sample 6000 / 24576\n",
      "[t-SNE] Computed conditional probabilities for sample 7000 / 24576\n",
      "[t-SNE] Computed conditional probabilities for sample 8000 / 24576\n",
      "[t-SNE] Computed conditional probabilities for sample 9000 / 24576\n",
      "[t-SNE] Computed conditional probabilities for sample 10000 / 24576\n",
      "[t-SNE] Computed conditional probabilities for sample 11000 / 24576\n",
      "[t-SNE] Computed conditional probabilities for sample 12000 / 24576\n",
      "[t-SNE] Computed conditional probabilities for sample 13000 / 24576\n",
      "[t-SNE] Computed conditional probabilities for sample 14000 / 24576\n",
      "[t-SNE] Computed conditional probabilities for sample 15000 / 24576\n",
      "[t-SNE] Computed conditional probabilities for sample 16000 / 24576\n",
      "[t-SNE] Computed conditional probabilities for sample 17000 / 24576\n",
      "[t-SNE] Computed conditional probabilities for sample 18000 / 24576\n",
      "[t-SNE] Computed conditional probabilities for sample 19000 / 24576\n",
      "[t-SNE] Computed conditional probabilities for sample 20000 / 24576\n",
      "[t-SNE] Computed conditional probabilities for sample 21000 / 24576\n",
      "[t-SNE] Computed conditional probabilities for sample 22000 / 24576\n",
      "[t-SNE] Computed conditional probabilities for sample 23000 / 24576\n",
      "[t-SNE] Computed conditional probabilities for sample 24000 / 24576\n",
      "[t-SNE] Computed conditional probabilities for sample 24576 / 24576\n",
      "[t-SNE] Mean sigma: 0.014471\n",
      "[t-SNE] KL divergence after 250 iterations with early exaggeration: 73.221718\n",
      "[t-SNE] KL divergence after 300 iterations: 2.721990\n",
      "t-SNE plot saved to: ./invariant_tsne_cnn/cnn_features_tsne_20241126_111718.png\n",
      "(32, 6, 4096, 128)\n",
      "32 6 4096 128\n",
      "(24576, 4096)\n"
     ]
    },
    {
     "name": "stderr",
     "output_type": "stream",
     "text": [
      "/Users/marinemoutarlier/miniconda3/envs/sklearn-env/lib/python3.13/site-packages/sklearn/manifold/_t_sne.py:1162: FutureWarning: 'n_iter' was renamed to 'max_iter' in version 1.5 and will be removed in 1.7.\n",
      "  warnings.warn(\n"
     ]
    },
    {
     "name": "stdout",
     "output_type": "stream",
     "text": [
      "[t-SNE] Computing 121 nearest neighbors...\n",
      "[t-SNE] Indexed 24576 samples in 0.045s...\n",
      "[t-SNE] Computed neighbors for 24576 samples in 55.610s...\n",
      "[t-SNE] Computed conditional probabilities for sample 1000 / 24576\n",
      "[t-SNE] Computed conditional probabilities for sample 2000 / 24576\n",
      "[t-SNE] Computed conditional probabilities for sample 3000 / 24576\n",
      "[t-SNE] Computed conditional probabilities for sample 4000 / 24576\n",
      "[t-SNE] Computed conditional probabilities for sample 5000 / 24576\n",
      "[t-SNE] Computed conditional probabilities for sample 6000 / 24576\n",
      "[t-SNE] Computed conditional probabilities for sample 7000 / 24576\n",
      "[t-SNE] Computed conditional probabilities for sample 8000 / 24576\n",
      "[t-SNE] Computed conditional probabilities for sample 9000 / 24576\n",
      "[t-SNE] Computed conditional probabilities for sample 10000 / 24576\n",
      "[t-SNE] Computed conditional probabilities for sample 11000 / 24576\n",
      "[t-SNE] Computed conditional probabilities for sample 12000 / 24576\n",
      "[t-SNE] Computed conditional probabilities for sample 13000 / 24576\n",
      "[t-SNE] Computed conditional probabilities for sample 14000 / 24576\n",
      "[t-SNE] Computed conditional probabilities for sample 15000 / 24576\n",
      "[t-SNE] Computed conditional probabilities for sample 16000 / 24576\n",
      "[t-SNE] Computed conditional probabilities for sample 17000 / 24576\n",
      "[t-SNE] Computed conditional probabilities for sample 18000 / 24576\n",
      "[t-SNE] Computed conditional probabilities for sample 19000 / 24576\n",
      "[t-SNE] Computed conditional probabilities for sample 20000 / 24576\n",
      "[t-SNE] Computed conditional probabilities for sample 21000 / 24576\n",
      "[t-SNE] Computed conditional probabilities for sample 22000 / 24576\n",
      "[t-SNE] Computed conditional probabilities for sample 23000 / 24576\n",
      "[t-SNE] Computed conditional probabilities for sample 24000 / 24576\n",
      "[t-SNE] Computed conditional probabilities for sample 24576 / 24576\n",
      "[t-SNE] Mean sigma: 0.017942\n",
      "[t-SNE] KL divergence after 250 iterations with early exaggeration: 72.690727\n",
      "[t-SNE] KL divergence after 300 iterations: 2.701627\n",
      "t-SNE plot saved to: ./invariant_tsne_cnn/cnn_features_tsne_20241126_111848.png\n",
      "(32, 6, 4096, 128)\n",
      "32 6 4096 128\n",
      "(24576, 4096)\n"
     ]
    },
    {
     "name": "stderr",
     "output_type": "stream",
     "text": [
      "/Users/marinemoutarlier/miniconda3/envs/sklearn-env/lib/python3.13/site-packages/sklearn/manifold/_t_sne.py:1162: FutureWarning: 'n_iter' was renamed to 'max_iter' in version 1.5 and will be removed in 1.7.\n",
      "  warnings.warn(\n"
     ]
    },
    {
     "name": "stdout",
     "output_type": "stream",
     "text": [
      "[t-SNE] Computing 121 nearest neighbors...\n",
      "[t-SNE] Indexed 24576 samples in 0.040s...\n",
      "[t-SNE] Computed neighbors for 24576 samples in 57.020s...\n",
      "[t-SNE] Computed conditional probabilities for sample 1000 / 24576\n",
      "[t-SNE] Computed conditional probabilities for sample 2000 / 24576\n",
      "[t-SNE] Computed conditional probabilities for sample 3000 / 24576\n",
      "[t-SNE] Computed conditional probabilities for sample 4000 / 24576\n",
      "[t-SNE] Computed conditional probabilities for sample 5000 / 24576\n",
      "[t-SNE] Computed conditional probabilities for sample 6000 / 24576\n",
      "[t-SNE] Computed conditional probabilities for sample 7000 / 24576\n",
      "[t-SNE] Computed conditional probabilities for sample 8000 / 24576\n",
      "[t-SNE] Computed conditional probabilities for sample 9000 / 24576\n",
      "[t-SNE] Computed conditional probabilities for sample 10000 / 24576\n",
      "[t-SNE] Computed conditional probabilities for sample 11000 / 24576\n",
      "[t-SNE] Computed conditional probabilities for sample 12000 / 24576\n",
      "[t-SNE] Computed conditional probabilities for sample 13000 / 24576\n",
      "[t-SNE] Computed conditional probabilities for sample 14000 / 24576\n",
      "[t-SNE] Computed conditional probabilities for sample 15000 / 24576\n",
      "[t-SNE] Computed conditional probabilities for sample 16000 / 24576\n",
      "[t-SNE] Computed conditional probabilities for sample 17000 / 24576\n",
      "[t-SNE] Computed conditional probabilities for sample 18000 / 24576\n",
      "[t-SNE] Computed conditional probabilities for sample 19000 / 24576\n",
      "[t-SNE] Computed conditional probabilities for sample 20000 / 24576\n",
      "[t-SNE] Computed conditional probabilities for sample 21000 / 24576\n",
      "[t-SNE] Computed conditional probabilities for sample 22000 / 24576\n",
      "[t-SNE] Computed conditional probabilities for sample 23000 / 24576\n",
      "[t-SNE] Computed conditional probabilities for sample 24000 / 24576\n",
      "[t-SNE] Computed conditional probabilities for sample 24576 / 24576\n",
      "[t-SNE] Mean sigma: 0.016645\n",
      "[t-SNE] KL divergence after 250 iterations with early exaggeration: 72.467224\n",
      "[t-SNE] KL divergence after 300 iterations: 2.699943\n",
      "t-SNE plot saved to: ./invariant_tsne_cnn/cnn_features_tsne_20241126_112022.png\n",
      "(32, 6, 4096, 128)\n",
      "32 6 4096 128\n",
      "(24576, 4096)\n"
     ]
    },
    {
     "name": "stderr",
     "output_type": "stream",
     "text": [
      "/Users/marinemoutarlier/miniconda3/envs/sklearn-env/lib/python3.13/site-packages/sklearn/manifold/_t_sne.py:1162: FutureWarning: 'n_iter' was renamed to 'max_iter' in version 1.5 and will be removed in 1.7.\n",
      "  warnings.warn(\n"
     ]
    },
    {
     "name": "stdout",
     "output_type": "stream",
     "text": [
      "[t-SNE] Computing 121 nearest neighbors...\n",
      "[t-SNE] Indexed 24576 samples in 0.033s...\n",
      "[t-SNE] Computed neighbors for 24576 samples in 61.082s...\n",
      "[t-SNE] Computed conditional probabilities for sample 1000 / 24576\n",
      "[t-SNE] Computed conditional probabilities for sample 2000 / 24576\n",
      "[t-SNE] Computed conditional probabilities for sample 3000 / 24576\n",
      "[t-SNE] Computed conditional probabilities for sample 4000 / 24576\n",
      "[t-SNE] Computed conditional probabilities for sample 5000 / 24576\n",
      "[t-SNE] Computed conditional probabilities for sample 6000 / 24576\n",
      "[t-SNE] Computed conditional probabilities for sample 7000 / 24576\n",
      "[t-SNE] Computed conditional probabilities for sample 8000 / 24576\n",
      "[t-SNE] Computed conditional probabilities for sample 9000 / 24576\n",
      "[t-SNE] Computed conditional probabilities for sample 10000 / 24576\n",
      "[t-SNE] Computed conditional probabilities for sample 11000 / 24576\n",
      "[t-SNE] Computed conditional probabilities for sample 12000 / 24576\n",
      "[t-SNE] Computed conditional probabilities for sample 13000 / 24576\n",
      "[t-SNE] Computed conditional probabilities for sample 14000 / 24576\n",
      "[t-SNE] Computed conditional probabilities for sample 15000 / 24576\n",
      "[t-SNE] Computed conditional probabilities for sample 16000 / 24576\n",
      "[t-SNE] Computed conditional probabilities for sample 17000 / 24576\n",
      "[t-SNE] Computed conditional probabilities for sample 18000 / 24576\n",
      "[t-SNE] Computed conditional probabilities for sample 19000 / 24576\n",
      "[t-SNE] Computed conditional probabilities for sample 20000 / 24576\n",
      "[t-SNE] Computed conditional probabilities for sample 21000 / 24576\n",
      "[t-SNE] Computed conditional probabilities for sample 22000 / 24576\n",
      "[t-SNE] Computed conditional probabilities for sample 23000 / 24576\n",
      "[t-SNE] Computed conditional probabilities for sample 24000 / 24576\n",
      "[t-SNE] Computed conditional probabilities for sample 24576 / 24576\n",
      "[t-SNE] Mean sigma: 0.016582\n",
      "[t-SNE] KL divergence after 250 iterations with early exaggeration: 71.833725\n",
      "[t-SNE] KL divergence after 300 iterations: 2.676214\n",
      "t-SNE plot saved to: ./invariant_tsne_cnn/cnn_features_tsne_20241126_112157.png\n",
      "(32, 6, 4096, 128)\n",
      "32 6 4096 128\n",
      "(24576, 4096)\n"
     ]
    },
    {
     "name": "stderr",
     "output_type": "stream",
     "text": [
      "/Users/marinemoutarlier/miniconda3/envs/sklearn-env/lib/python3.13/site-packages/sklearn/manifold/_t_sne.py:1162: FutureWarning: 'n_iter' was renamed to 'max_iter' in version 1.5 and will be removed in 1.7.\n",
      "  warnings.warn(\n"
     ]
    },
    {
     "name": "stdout",
     "output_type": "stream",
     "text": [
      "[t-SNE] Computing 121 nearest neighbors...\n",
      "[t-SNE] Indexed 24576 samples in 0.029s...\n",
      "[t-SNE] Computed neighbors for 24576 samples in 61.949s...\n",
      "[t-SNE] Computed conditional probabilities for sample 1000 / 24576\n",
      "[t-SNE] Computed conditional probabilities for sample 2000 / 24576\n",
      "[t-SNE] Computed conditional probabilities for sample 3000 / 24576\n",
      "[t-SNE] Computed conditional probabilities for sample 4000 / 24576\n",
      "[t-SNE] Computed conditional probabilities for sample 5000 / 24576\n",
      "[t-SNE] Computed conditional probabilities for sample 6000 / 24576\n",
      "[t-SNE] Computed conditional probabilities for sample 7000 / 24576\n",
      "[t-SNE] Computed conditional probabilities for sample 8000 / 24576\n",
      "[t-SNE] Computed conditional probabilities for sample 9000 / 24576\n",
      "[t-SNE] Computed conditional probabilities for sample 10000 / 24576\n",
      "[t-SNE] Computed conditional probabilities for sample 11000 / 24576\n",
      "[t-SNE] Computed conditional probabilities for sample 12000 / 24576\n",
      "[t-SNE] Computed conditional probabilities for sample 13000 / 24576\n",
      "[t-SNE] Computed conditional probabilities for sample 14000 / 24576\n",
      "[t-SNE] Computed conditional probabilities for sample 15000 / 24576\n",
      "[t-SNE] Computed conditional probabilities for sample 16000 / 24576\n",
      "[t-SNE] Computed conditional probabilities for sample 17000 / 24576\n",
      "[t-SNE] Computed conditional probabilities for sample 18000 / 24576\n",
      "[t-SNE] Computed conditional probabilities for sample 19000 / 24576\n",
      "[t-SNE] Computed conditional probabilities for sample 20000 / 24576\n",
      "[t-SNE] Computed conditional probabilities for sample 21000 / 24576\n",
      "[t-SNE] Computed conditional probabilities for sample 22000 / 24576\n",
      "[t-SNE] Computed conditional probabilities for sample 23000 / 24576\n",
      "[t-SNE] Computed conditional probabilities for sample 24000 / 24576\n",
      "[t-SNE] Computed conditional probabilities for sample 24576 / 24576\n",
      "[t-SNE] Mean sigma: 0.019110\n",
      "[t-SNE] KL divergence after 250 iterations with early exaggeration: 71.522049\n",
      "[t-SNE] KL divergence after 300 iterations: 2.658933\n",
      "t-SNE plot saved to: ./invariant_tsne_cnn/cnn_features_tsne_20241126_112332.png\n",
      "(32, 6, 4096, 128)\n",
      "32 6 4096 128\n",
      "(24576, 4096)\n"
     ]
    },
    {
     "name": "stderr",
     "output_type": "stream",
     "text": [
      "/Users/marinemoutarlier/miniconda3/envs/sklearn-env/lib/python3.13/site-packages/sklearn/manifold/_t_sne.py:1162: FutureWarning: 'n_iter' was renamed to 'max_iter' in version 1.5 and will be removed in 1.7.\n",
      "  warnings.warn(\n"
     ]
    },
    {
     "name": "stdout",
     "output_type": "stream",
     "text": [
      "[t-SNE] Computing 121 nearest neighbors...\n",
      "[t-SNE] Indexed 24576 samples in 0.020s...\n",
      "[t-SNE] Computed neighbors for 24576 samples in 62.166s...\n",
      "[t-SNE] Computed conditional probabilities for sample 1000 / 24576\n",
      "[t-SNE] Computed conditional probabilities for sample 2000 / 24576\n",
      "[t-SNE] Computed conditional probabilities for sample 3000 / 24576\n",
      "[t-SNE] Computed conditional probabilities for sample 4000 / 24576\n",
      "[t-SNE] Computed conditional probabilities for sample 5000 / 24576\n",
      "[t-SNE] Computed conditional probabilities for sample 6000 / 24576\n",
      "[t-SNE] Computed conditional probabilities for sample 7000 / 24576\n",
      "[t-SNE] Computed conditional probabilities for sample 8000 / 24576\n",
      "[t-SNE] Computed conditional probabilities for sample 9000 / 24576\n",
      "[t-SNE] Computed conditional probabilities for sample 10000 / 24576\n",
      "[t-SNE] Computed conditional probabilities for sample 11000 / 24576\n",
      "[t-SNE] Computed conditional probabilities for sample 12000 / 24576\n",
      "[t-SNE] Computed conditional probabilities for sample 13000 / 24576\n",
      "[t-SNE] Computed conditional probabilities for sample 14000 / 24576\n",
      "[t-SNE] Computed conditional probabilities for sample 15000 / 24576\n",
      "[t-SNE] Computed conditional probabilities for sample 16000 / 24576\n",
      "[t-SNE] Computed conditional probabilities for sample 17000 / 24576\n",
      "[t-SNE] Computed conditional probabilities for sample 18000 / 24576\n",
      "[t-SNE] Computed conditional probabilities for sample 19000 / 24576\n",
      "[t-SNE] Computed conditional probabilities for sample 20000 / 24576\n",
      "[t-SNE] Computed conditional probabilities for sample 21000 / 24576\n",
      "[t-SNE] Computed conditional probabilities for sample 22000 / 24576\n",
      "[t-SNE] Computed conditional probabilities for sample 23000 / 24576\n",
      "[t-SNE] Computed conditional probabilities for sample 24000 / 24576\n",
      "[t-SNE] Computed conditional probabilities for sample 24576 / 24576\n",
      "[t-SNE] Mean sigma: 0.024745\n",
      "[t-SNE] KL divergence after 250 iterations with early exaggeration: 71.664383\n",
      "[t-SNE] KL divergence after 300 iterations: 2.660870\n",
      "t-SNE plot saved to: ./invariant_tsne_cnn/cnn_features_tsne_20241126_112503.png\n",
      "(32, 6, 4096, 128)\n",
      "32 6 4096 128\n",
      "(24576, 4096)\n"
     ]
    },
    {
     "name": "stderr",
     "output_type": "stream",
     "text": [
      "/Users/marinemoutarlier/miniconda3/envs/sklearn-env/lib/python3.13/site-packages/sklearn/manifold/_t_sne.py:1162: FutureWarning: 'n_iter' was renamed to 'max_iter' in version 1.5 and will be removed in 1.7.\n",
      "  warnings.warn(\n"
     ]
    },
    {
     "name": "stdout",
     "output_type": "stream",
     "text": [
      "[t-SNE] Computing 121 nearest neighbors...\n",
      "[t-SNE] Indexed 24576 samples in 0.020s...\n",
      "[t-SNE] Computed neighbors for 24576 samples in 59.434s...\n",
      "[t-SNE] Computed conditional probabilities for sample 1000 / 24576\n",
      "[t-SNE] Computed conditional probabilities for sample 2000 / 24576\n",
      "[t-SNE] Computed conditional probabilities for sample 3000 / 24576\n",
      "[t-SNE] Computed conditional probabilities for sample 4000 / 24576\n",
      "[t-SNE] Computed conditional probabilities for sample 5000 / 24576\n",
      "[t-SNE] Computed conditional probabilities for sample 6000 / 24576\n",
      "[t-SNE] Computed conditional probabilities for sample 7000 / 24576\n",
      "[t-SNE] Computed conditional probabilities for sample 8000 / 24576\n",
      "[t-SNE] Computed conditional probabilities for sample 9000 / 24576\n",
      "[t-SNE] Computed conditional probabilities for sample 10000 / 24576\n",
      "[t-SNE] Computed conditional probabilities for sample 11000 / 24576\n",
      "[t-SNE] Computed conditional probabilities for sample 12000 / 24576\n",
      "[t-SNE] Computed conditional probabilities for sample 13000 / 24576\n",
      "[t-SNE] Computed conditional probabilities for sample 14000 / 24576\n",
      "[t-SNE] Computed conditional probabilities for sample 15000 / 24576\n",
      "[t-SNE] Computed conditional probabilities for sample 16000 / 24576\n",
      "[t-SNE] Computed conditional probabilities for sample 17000 / 24576\n",
      "[t-SNE] Computed conditional probabilities for sample 18000 / 24576\n",
      "[t-SNE] Computed conditional probabilities for sample 19000 / 24576\n",
      "[t-SNE] Computed conditional probabilities for sample 20000 / 24576\n",
      "[t-SNE] Computed conditional probabilities for sample 21000 / 24576\n",
      "[t-SNE] Computed conditional probabilities for sample 22000 / 24576\n",
      "[t-SNE] Computed conditional probabilities for sample 23000 / 24576\n",
      "[t-SNE] Computed conditional probabilities for sample 24000 / 24576\n",
      "[t-SNE] Computed conditional probabilities for sample 24576 / 24576\n",
      "[t-SNE] Mean sigma: 0.025053\n",
      "[t-SNE] KL divergence after 250 iterations with early exaggeration: 70.977654\n",
      "[t-SNE] KL divergence after 300 iterations: 2.632771\n",
      "t-SNE plot saved to: ./invariant_tsne_cnn/cnn_features_tsne_20241126_112632.png\n",
      "(32, 6, 4096, 128)\n",
      "32 6 4096 128\n",
      "(24576, 4096)\n"
     ]
    },
    {
     "name": "stderr",
     "output_type": "stream",
     "text": [
      "/Users/marinemoutarlier/miniconda3/envs/sklearn-env/lib/python3.13/site-packages/sklearn/manifold/_t_sne.py:1162: FutureWarning: 'n_iter' was renamed to 'max_iter' in version 1.5 and will be removed in 1.7.\n",
      "  warnings.warn(\n"
     ]
    },
    {
     "name": "stdout",
     "output_type": "stream",
     "text": [
      "[t-SNE] Computing 121 nearest neighbors...\n",
      "[t-SNE] Indexed 24576 samples in 0.029s...\n",
      "[t-SNE] Computed neighbors for 24576 samples in 60.459s...\n",
      "[t-SNE] Computed conditional probabilities for sample 1000 / 24576\n",
      "[t-SNE] Computed conditional probabilities for sample 2000 / 24576\n",
      "[t-SNE] Computed conditional probabilities for sample 3000 / 24576\n",
      "[t-SNE] Computed conditional probabilities for sample 4000 / 24576\n",
      "[t-SNE] Computed conditional probabilities for sample 5000 / 24576\n",
      "[t-SNE] Computed conditional probabilities for sample 6000 / 24576\n",
      "[t-SNE] Computed conditional probabilities for sample 7000 / 24576\n",
      "[t-SNE] Computed conditional probabilities for sample 8000 / 24576\n",
      "[t-SNE] Computed conditional probabilities for sample 9000 / 24576\n",
      "[t-SNE] Computed conditional probabilities for sample 10000 / 24576\n",
      "[t-SNE] Computed conditional probabilities for sample 11000 / 24576\n",
      "[t-SNE] Computed conditional probabilities for sample 12000 / 24576\n",
      "[t-SNE] Computed conditional probabilities for sample 13000 / 24576\n",
      "[t-SNE] Computed conditional probabilities for sample 14000 / 24576\n",
      "[t-SNE] Computed conditional probabilities for sample 15000 / 24576\n",
      "[t-SNE] Computed conditional probabilities for sample 16000 / 24576\n",
      "[t-SNE] Computed conditional probabilities for sample 17000 / 24576\n",
      "[t-SNE] Computed conditional probabilities for sample 18000 / 24576\n",
      "[t-SNE] Computed conditional probabilities for sample 19000 / 24576\n",
      "[t-SNE] Computed conditional probabilities for sample 20000 / 24576\n",
      "[t-SNE] Computed conditional probabilities for sample 21000 / 24576\n",
      "[t-SNE] Computed conditional probabilities for sample 22000 / 24576\n",
      "[t-SNE] Computed conditional probabilities for sample 23000 / 24576\n",
      "[t-SNE] Computed conditional probabilities for sample 24000 / 24576\n",
      "[t-SNE] Computed conditional probabilities for sample 24576 / 24576\n",
      "[t-SNE] Mean sigma: 0.026207\n",
      "[t-SNE] KL divergence after 250 iterations with early exaggeration: 71.276306\n",
      "[t-SNE] KL divergence after 300 iterations: 2.639057\n",
      "t-SNE plot saved to: ./invariant_tsne_cnn/cnn_features_tsne_20241126_112802.png\n",
      "(32, 6, 4096, 128)\n",
      "32 6 4096 128\n",
      "(24576, 4096)\n"
     ]
    },
    {
     "name": "stderr",
     "output_type": "stream",
     "text": [
      "/Users/marinemoutarlier/miniconda3/envs/sklearn-env/lib/python3.13/site-packages/sklearn/manifold/_t_sne.py:1162: FutureWarning: 'n_iter' was renamed to 'max_iter' in version 1.5 and will be removed in 1.7.\n",
      "  warnings.warn(\n"
     ]
    },
    {
     "name": "stdout",
     "output_type": "stream",
     "text": [
      "[t-SNE] Computing 121 nearest neighbors...\n",
      "[t-SNE] Indexed 24576 samples in 0.020s...\n",
      "[t-SNE] Computed neighbors for 24576 samples in 64.987s...\n",
      "[t-SNE] Computed conditional probabilities for sample 1000 / 24576\n",
      "[t-SNE] Computed conditional probabilities for sample 2000 / 24576\n",
      "[t-SNE] Computed conditional probabilities for sample 3000 / 24576\n",
      "[t-SNE] Computed conditional probabilities for sample 4000 / 24576\n",
      "[t-SNE] Computed conditional probabilities for sample 5000 / 24576\n",
      "[t-SNE] Computed conditional probabilities for sample 6000 / 24576\n",
      "[t-SNE] Computed conditional probabilities for sample 7000 / 24576\n",
      "[t-SNE] Computed conditional probabilities for sample 8000 / 24576\n",
      "[t-SNE] Computed conditional probabilities for sample 9000 / 24576\n",
      "[t-SNE] Computed conditional probabilities for sample 10000 / 24576\n",
      "[t-SNE] Computed conditional probabilities for sample 11000 / 24576\n",
      "[t-SNE] Computed conditional probabilities for sample 12000 / 24576\n",
      "[t-SNE] Computed conditional probabilities for sample 13000 / 24576\n",
      "[t-SNE] Computed conditional probabilities for sample 14000 / 24576\n",
      "[t-SNE] Computed conditional probabilities for sample 15000 / 24576\n",
      "[t-SNE] Computed conditional probabilities for sample 16000 / 24576\n",
      "[t-SNE] Computed conditional probabilities for sample 17000 / 24576\n",
      "[t-SNE] Computed conditional probabilities for sample 18000 / 24576\n",
      "[t-SNE] Computed conditional probabilities for sample 19000 / 24576\n",
      "[t-SNE] Computed conditional probabilities for sample 20000 / 24576\n",
      "[t-SNE] Computed conditional probabilities for sample 21000 / 24576\n",
      "[t-SNE] Computed conditional probabilities for sample 22000 / 24576\n",
      "[t-SNE] Computed conditional probabilities for sample 23000 / 24576\n",
      "[t-SNE] Computed conditional probabilities for sample 24000 / 24576\n",
      "[t-SNE] Computed conditional probabilities for sample 24576 / 24576\n",
      "[t-SNE] Mean sigma: 0.023920\n",
      "[t-SNE] KL divergence after 250 iterations with early exaggeration: 71.401161\n",
      "[t-SNE] KL divergence after 300 iterations: 2.649741\n",
      "t-SNE plot saved to: ./invariant_tsne_cnn/cnn_features_tsne_20241126_112937.png\n"
     ]
    },
    {
     "ename": "ValueError",
     "evalue": "cannot reshape array of size 0 into shape (32,6,4096,128)",
     "output_type": "error",
     "traceback": [
      "\u001b[0;31m---------------------------------------------------------------------------\u001b[0m",
      "\u001b[0;31mValueError\u001b[0m                                Traceback (most recent call last)",
      "Cell \u001b[0;32mIn[2], line 12\u001b[0m\n\u001b[1;32m     10\u001b[0m \u001b[38;5;28;01mfor\u001b[39;00m filename \u001b[38;5;129;01min\u001b[39;00m files:\n\u001b[1;32m     11\u001b[0m     \u001b[38;5;28;01mif\u001b[39;00m filename\u001b[38;5;241m.\u001b[39mstartswith(\u001b[38;5;124m\"\u001b[39m\u001b[38;5;124mencoder_out\u001b[39m\u001b[38;5;124m\"\u001b[39m):\n\u001b[0;32m---> 12\u001b[0m         data_cnn \u001b[38;5;241m=\u001b[39m \u001b[43mnp\u001b[49m\u001b[38;5;241;43m.\u001b[39;49m\u001b[43mload\u001b[49m\u001b[43m(\u001b[49m\u001b[43mos\u001b[49m\u001b[38;5;241;43m.\u001b[39;49m\u001b[43mpath\u001b[49m\u001b[38;5;241;43m.\u001b[39;49m\u001b[43mjoin\u001b[49m\u001b[43m(\u001b[49m\u001b[43mfolder\u001b[49m\u001b[43m,\u001b[49m\u001b[43m \u001b[49m\u001b[43mfilename\u001b[49m\u001b[43m)\u001b[49m\u001b[43m)\u001b[49m\n\u001b[1;32m     13\u001b[0m         \u001b[38;5;28mprint\u001b[39m(data_cnn\u001b[38;5;241m.\u001b[39mshape)\n\u001b[1;32m     14\u001b[0m         B,T, D, HW \u001b[38;5;241m=\u001b[39m data_cnn\u001b[38;5;241m.\u001b[39mshape\n",
      "File \u001b[0;32m~/miniconda3/envs/sklearn-env/lib/python3.13/site-packages/numpy/lib/_npyio_impl.py:488\u001b[0m, in \u001b[0;36mload\u001b[0;34m(file, mmap_mode, allow_pickle, fix_imports, encoding, max_header_size)\u001b[0m\n\u001b[1;32m    485\u001b[0m         \u001b[38;5;28;01mreturn\u001b[39;00m \u001b[38;5;28mformat\u001b[39m\u001b[38;5;241m.\u001b[39mopen_memmap(file, mode\u001b[38;5;241m=\u001b[39mmmap_mode,\n\u001b[1;32m    486\u001b[0m                                   max_header_size\u001b[38;5;241m=\u001b[39mmax_header_size)\n\u001b[1;32m    487\u001b[0m     \u001b[38;5;28;01melse\u001b[39;00m:\n\u001b[0;32m--> 488\u001b[0m         \u001b[38;5;28;01mreturn\u001b[39;00m \u001b[38;5;28;43mformat\u001b[39;49m\u001b[38;5;241;43m.\u001b[39;49m\u001b[43mread_array\u001b[49m\u001b[43m(\u001b[49m\u001b[43mfid\u001b[49m\u001b[43m,\u001b[49m\u001b[43m \u001b[49m\u001b[43mallow_pickle\u001b[49m\u001b[38;5;241;43m=\u001b[39;49m\u001b[43mallow_pickle\u001b[49m\u001b[43m,\u001b[49m\n\u001b[1;32m    489\u001b[0m \u001b[43m                                 \u001b[49m\u001b[43mpickle_kwargs\u001b[49m\u001b[38;5;241;43m=\u001b[39;49m\u001b[43mpickle_kwargs\u001b[49m\u001b[43m,\u001b[49m\n\u001b[1;32m    490\u001b[0m \u001b[43m                                 \u001b[49m\u001b[43mmax_header_size\u001b[49m\u001b[38;5;241;43m=\u001b[39;49m\u001b[43mmax_header_size\u001b[49m\u001b[43m)\u001b[49m\n\u001b[1;32m    491\u001b[0m \u001b[38;5;28;01melse\u001b[39;00m:\n\u001b[1;32m    492\u001b[0m     \u001b[38;5;66;03m# Try a pickle\u001b[39;00m\n\u001b[1;32m    493\u001b[0m     \u001b[38;5;28;01mif\u001b[39;00m \u001b[38;5;129;01mnot\u001b[39;00m allow_pickle:\n",
      "File \u001b[0;32m~/miniconda3/envs/sklearn-env/lib/python3.13/site-packages/numpy/lib/format.py:866\u001b[0m, in \u001b[0;36mread_array\u001b[0;34m(fp, allow_pickle, pickle_kwargs, max_header_size)\u001b[0m\n\u001b[1;32m    864\u001b[0m         array \u001b[38;5;241m=\u001b[39m array\u001b[38;5;241m.\u001b[39mtranspose()\n\u001b[1;32m    865\u001b[0m     \u001b[38;5;28;01melse\u001b[39;00m:\n\u001b[0;32m--> 866\u001b[0m         \u001b[43marray\u001b[49m\u001b[38;5;241;43m.\u001b[39;49m\u001b[43mshape\u001b[49m \u001b[38;5;241m=\u001b[39m shape\n\u001b[1;32m    868\u001b[0m \u001b[38;5;28;01mreturn\u001b[39;00m array\n",
      "\u001b[0;31mValueError\u001b[0m: cannot reshape array of size 0 into shape (32,6,4096,128)"
     ]
    }
   ],
   "source": [
    "# Load the slots data from the .npy files, and read it \n",
    "folder = \"/Users/marinemoutarlier/Desktop/invariant_tsne_npy\"\n",
    "def extract_numeric_value(filename):\n",
    "    return int(''.join(filter(str.isdigit, filename)))\n",
    "\n",
    "# Loop through the files in the folder, sorted by numeric values\n",
    "files = sorted(os.listdir(folder), key=extract_numeric_value)\n",
    "print(\"Found the following files:\", files)  # Debugging line to check the loaded filenames\n",
    "\n",
    "for filename in files:\n",
    "    if filename.startswith(\"encoder_out\"):\n",
    "        data_cnn = np.load(os.path.join(folder, filename))\n",
    "        print(data_cnn.shape)\n",
    "        B,T, D, HW = data_cnn.shape\n",
    "        print (B, T, D, HW)\n",
    "\n",
    "        data = data_cnn.reshape(B*T*HW, D)\n",
    "        print (data.shape)\n",
    "\n",
    "        device = torch.device(\"mps:0\")\n",
    "\n",
    "\n",
    "        # Perform t-SNE embedding on the data\n",
    "\n",
    "        tsne = TSNE(n_components=2, verbose=1, perplexity=40, n_iter=300)\n",
    "        tsne_results = tsne.fit_transform(data)\n",
    "\n",
    "        # Perform t-SNE\n",
    "            \n",
    "        # Plotting\n",
    "        plt.figure(figsize=(8, 8))\n",
    "        plt.scatter(tsne_results[:, 0], tsne_results[:, 1], s=30, alpha=0.6)\n",
    "\n",
    "        plt.title('t-SNE Visualization of CNN Features')\n",
    "        plt.xlabel('t-SNE Component 1')\n",
    "        plt.ylabel('t-SNE Component 2')\n",
    "\n",
    "        # Generate a unique filename using the current timestamp\n",
    "        timestamp = datetime.now().strftime('%Y%m%d_%H%M%S')\n",
    "        save_path = f'./invariant_tsne_cnn/cnn_features_tsne_{timestamp}.png'\n",
    "        os.makedirs(os.path.dirname(save_path), exist_ok=True)\n",
    "                \n",
    "        plt.savefig(save_path)\n",
    "        plt.close()\n",
    "\n",
    "        print(f\"t-SNE plot saved to: {save_path}\")\n",
    "\n",
    "    \n",
    "\n",
    "\n",
    "\n",
    "\n",
    "\n",
    "\n"
   ]
  },
  {
   "cell_type": "code",
   "execution_count": 46,
   "metadata": {},
   "outputs": [],
   "source": [
    "# create a random numpy of the same size as the data the shape of the np is (batch_size, 50,128x128, 4096)\n",
    "#data_cnn = np.random.rand(48, 128*128, 4096)\n"
   ]
  },
  {
   "cell_type": "code",
   "execution_count": 3,
   "metadata": {},
   "outputs": [
    {
     "name": "stdout",
     "output_type": "stream",
     "text": [
      "Found the following files: ['post_slots_0.npy', 'encoder_out_0.npy', 'post_slots_4106.npy', 'encoder_out_4106.npy', 'post_slots_8212.npy', 'encoder_out_8212.npy', 'encoder_out_12318.npy', 'post_slots_12318.npy', 'encoder_out_16424.npy', 'post_slots_16424.npy', 'encoder_out_20530.npy', 'post_slots_20530.npy', 'encoder_out_24636.npy', 'post_slots_24636.npy', 'encoder_out_28742.npy', 'post_slots_28742.npy', 'encoder_out_32848.npy', 'post_slots_32848.npy', 'post_slots_36954.npy', 'encoder_out_36954.npy', 'encoder_out_41060.npy']\n",
      "post_slots_0.npy\n",
      "(384, 6, 128)\n",
      "[t-SNE] Computing 121 nearest neighbors...\n",
      "[t-SNE] Indexed 2304 samples in 0.000s...\n",
      "[t-SNE] Computed neighbors for 2304 samples in 0.051s...\n",
      "[t-SNE] Computed conditional probabilities for sample 1000 / 2304\n",
      "[t-SNE] Computed conditional probabilities for sample 2000 / 2304\n",
      "[t-SNE] Computed conditional probabilities for sample 2304 / 2304\n",
      "[t-SNE] Mean sigma: 1.425484\n"
     ]
    },
    {
     "name": "stderr",
     "output_type": "stream",
     "text": [
      "/Users/marinemoutarlier/miniconda3/envs/sklearn-env/lib/python3.13/site-packages/sklearn/manifold/_t_sne.py:1162: FutureWarning: 'n_iter' was renamed to 'max_iter' in version 1.5 and will be removed in 1.7.\n",
      "  warnings.warn(\n"
     ]
    },
    {
     "name": "stdout",
     "output_type": "stream",
     "text": [
      "[t-SNE] KL divergence after 250 iterations with early exaggeration: 74.323090\n",
      "[t-SNE] KL divergence after 300 iterations: 3.229338\n",
      "t-SNE plot saved to: ./invariant_tsne_slots/slot_features_tsne_0.png\n",
      "post_slots_4106.npy\n",
      "(192, 6, 128)\n",
      "[t-SNE] Computing 121 nearest neighbors...\n",
      "[t-SNE] Indexed 1152 samples in 0.000s...\n",
      "[t-SNE] Computed neighbors for 1152 samples in 0.010s...\n",
      "[t-SNE] Computed conditional probabilities for sample 1000 / 1152\n",
      "[t-SNE] Computed conditional probabilities for sample 1152 / 1152\n",
      "[t-SNE] Mean sigma: 0.496414\n"
     ]
    },
    {
     "name": "stderr",
     "output_type": "stream",
     "text": [
      "/var/folders/hy/1mkphk7j47n15fk8p9j53cg00000gn/T/ipykernel_57660/980317745.py:33: MatplotlibDeprecationWarning: The get_cmap function was deprecated in Matplotlib 3.7 and will be removed in 3.11. Use ``matplotlib.colormaps[name]`` or ``matplotlib.colormaps.get_cmap()`` or ``pyplot.get_cmap()`` instead.\n",
      "  colors = cm.get_cmap('tab10', num_slots)\n",
      "/Users/marinemoutarlier/miniconda3/envs/sklearn-env/lib/python3.13/site-packages/sklearn/manifold/_t_sne.py:1162: FutureWarning: 'n_iter' was renamed to 'max_iter' in version 1.5 and will be removed in 1.7.\n",
      "  warnings.warn(\n"
     ]
    },
    {
     "name": "stdout",
     "output_type": "stream",
     "text": [
      "[t-SNE] KL divergence after 250 iterations with early exaggeration: 48.392929\n",
      "[t-SNE] KL divergence after 300 iterations: 0.498262\n"
     ]
    },
    {
     "name": "stderr",
     "output_type": "stream",
     "text": [
      "/var/folders/hy/1mkphk7j47n15fk8p9j53cg00000gn/T/ipykernel_57660/980317745.py:33: MatplotlibDeprecationWarning: The get_cmap function was deprecated in Matplotlib 3.7 and will be removed in 3.11. Use ``matplotlib.colormaps[name]`` or ``matplotlib.colormaps.get_cmap()`` or ``pyplot.get_cmap()`` instead.\n",
      "  colors = cm.get_cmap('tab10', num_slots)\n",
      "/Users/marinemoutarlier/miniconda3/envs/sklearn-env/lib/python3.13/site-packages/sklearn/manifold/_t_sne.py:1162: FutureWarning: 'n_iter' was renamed to 'max_iter' in version 1.5 and will be removed in 1.7.\n",
      "  warnings.warn(\n"
     ]
    },
    {
     "name": "stdout",
     "output_type": "stream",
     "text": [
      "t-SNE plot saved to: ./invariant_tsne_slots/slot_features_tsne_1.png\n",
      "post_slots_8212.npy\n",
      "(192, 6, 128)\n",
      "[t-SNE] Computing 121 nearest neighbors...\n",
      "[t-SNE] Indexed 1152 samples in 0.000s...\n",
      "[t-SNE] Computed neighbors for 1152 samples in 0.013s...\n",
      "[t-SNE] Computed conditional probabilities for sample 1000 / 1152\n",
      "[t-SNE] Computed conditional probabilities for sample 1152 / 1152\n",
      "[t-SNE] Mean sigma: 0.740458\n",
      "[t-SNE] KL divergence after 250 iterations with early exaggeration: 42.195358\n",
      "[t-SNE] KL divergence after 300 iterations: 0.352747\n",
      "t-SNE plot saved to: ./invariant_tsne_slots/slot_features_tsne_2.png\n",
      "post_slots_12318.npy\n",
      "(192, 6, 128)\n",
      "[t-SNE] Computing 121 nearest neighbors...\n",
      "[t-SNE] Indexed 1152 samples in 0.000s...\n",
      "[t-SNE] Computed neighbors for 1152 samples in 0.011s...\n",
      "[t-SNE] Computed conditional probabilities for sample 1000 / 1152\n",
      "[t-SNE] Computed conditional probabilities for sample 1152 / 1152\n",
      "[t-SNE] Mean sigma: 0.802292\n"
     ]
    },
    {
     "name": "stderr",
     "output_type": "stream",
     "text": [
      "/var/folders/hy/1mkphk7j47n15fk8p9j53cg00000gn/T/ipykernel_57660/980317745.py:33: MatplotlibDeprecationWarning: The get_cmap function was deprecated in Matplotlib 3.7 and will be removed in 3.11. Use ``matplotlib.colormaps[name]`` or ``matplotlib.colormaps.get_cmap()`` or ``pyplot.get_cmap()`` instead.\n",
      "  colors = cm.get_cmap('tab10', num_slots)\n",
      "/Users/marinemoutarlier/miniconda3/envs/sklearn-env/lib/python3.13/site-packages/sklearn/manifold/_t_sne.py:1162: FutureWarning: 'n_iter' was renamed to 'max_iter' in version 1.5 and will be removed in 1.7.\n",
      "  warnings.warn(\n"
     ]
    },
    {
     "name": "stdout",
     "output_type": "stream",
     "text": [
      "[t-SNE] KL divergence after 250 iterations with early exaggeration: 44.481853\n",
      "[t-SNE] KL divergence after 300 iterations: 0.362870\n",
      "t-SNE plot saved to: ./invariant_tsne_slots/slot_features_tsne_3.png\n",
      "post_slots_16424.npy\n",
      "(192, 6, 128)\n",
      "[t-SNE] Computing 121 nearest neighbors...\n",
      "[t-SNE] Indexed 1152 samples in 0.000s...\n",
      "[t-SNE] Computed neighbors for 1152 samples in 0.013s...\n",
      "[t-SNE] Computed conditional probabilities for sample 1000 / 1152\n",
      "[t-SNE] Computed conditional probabilities for sample 1152 / 1152\n",
      "[t-SNE] Mean sigma: 1.028111\n"
     ]
    },
    {
     "name": "stderr",
     "output_type": "stream",
     "text": [
      "/var/folders/hy/1mkphk7j47n15fk8p9j53cg00000gn/T/ipykernel_57660/980317745.py:33: MatplotlibDeprecationWarning: The get_cmap function was deprecated in Matplotlib 3.7 and will be removed in 3.11. Use ``matplotlib.colormaps[name]`` or ``matplotlib.colormaps.get_cmap()`` or ``pyplot.get_cmap()`` instead.\n",
      "  colors = cm.get_cmap('tab10', num_slots)\n",
      "/Users/marinemoutarlier/miniconda3/envs/sklearn-env/lib/python3.13/site-packages/sklearn/manifold/_t_sne.py:1162: FutureWarning: 'n_iter' was renamed to 'max_iter' in version 1.5 and will be removed in 1.7.\n",
      "  warnings.warn(\n"
     ]
    },
    {
     "name": "stdout",
     "output_type": "stream",
     "text": [
      "[t-SNE] KL divergence after 250 iterations with early exaggeration: 61.265266\n",
      "[t-SNE] KL divergence after 300 iterations: 0.678014\n",
      "t-SNE plot saved to: ./invariant_tsne_slots/slot_features_tsne_4.png\n",
      "post_slots_20530.npy\n",
      "(192, 6, 128)\n",
      "[t-SNE] Computing 121 nearest neighbors...\n",
      "[t-SNE] Indexed 1152 samples in 0.000s...\n",
      "[t-SNE] Computed neighbors for 1152 samples in 0.011s...\n",
      "[t-SNE] Computed conditional probabilities for sample 1000 / 1152\n",
      "[t-SNE] Computed conditional probabilities for sample 1152 / 1152\n",
      "[t-SNE] Mean sigma: 1.138287\n"
     ]
    },
    {
     "name": "stderr",
     "output_type": "stream",
     "text": [
      "/var/folders/hy/1mkphk7j47n15fk8p9j53cg00000gn/T/ipykernel_57660/980317745.py:33: MatplotlibDeprecationWarning: The get_cmap function was deprecated in Matplotlib 3.7 and will be removed in 3.11. Use ``matplotlib.colormaps[name]`` or ``matplotlib.colormaps.get_cmap()`` or ``pyplot.get_cmap()`` instead.\n",
      "  colors = cm.get_cmap('tab10', num_slots)\n",
      "/Users/marinemoutarlier/miniconda3/envs/sklearn-env/lib/python3.13/site-packages/sklearn/manifold/_t_sne.py:1162: FutureWarning: 'n_iter' was renamed to 'max_iter' in version 1.5 and will be removed in 1.7.\n",
      "  warnings.warn(\n"
     ]
    },
    {
     "name": "stdout",
     "output_type": "stream",
     "text": [
      "[t-SNE] KL divergence after 250 iterations with early exaggeration: 60.864250\n",
      "[t-SNE] KL divergence after 300 iterations: 0.733656\n",
      "t-SNE plot saved to: ./invariant_tsne_slots/slot_features_tsne_5.png\n",
      "post_slots_24636.npy\n",
      "(192, 6, 128)\n",
      "[t-SNE] Computing 121 nearest neighbors...\n",
      "[t-SNE] Indexed 1152 samples in 0.000s...\n",
      "[t-SNE] Computed neighbors for 1152 samples in 0.011s...\n",
      "[t-SNE] Computed conditional probabilities for sample 1000 / 1152\n",
      "[t-SNE] Computed conditional probabilities for sample 1152 / 1152\n",
      "[t-SNE] Mean sigma: 1.191442\n"
     ]
    },
    {
     "name": "stderr",
     "output_type": "stream",
     "text": [
      "/var/folders/hy/1mkphk7j47n15fk8p9j53cg00000gn/T/ipykernel_57660/980317745.py:33: MatplotlibDeprecationWarning: The get_cmap function was deprecated in Matplotlib 3.7 and will be removed in 3.11. Use ``matplotlib.colormaps[name]`` or ``matplotlib.colormaps.get_cmap()`` or ``pyplot.get_cmap()`` instead.\n",
      "  colors = cm.get_cmap('tab10', num_slots)\n",
      "/Users/marinemoutarlier/miniconda3/envs/sklearn-env/lib/python3.13/site-packages/sklearn/manifold/_t_sne.py:1162: FutureWarning: 'n_iter' was renamed to 'max_iter' in version 1.5 and will be removed in 1.7.\n",
      "  warnings.warn(\n"
     ]
    },
    {
     "name": "stdout",
     "output_type": "stream",
     "text": [
      "[t-SNE] KL divergence after 250 iterations with early exaggeration: 60.332161\n",
      "[t-SNE] KL divergence after 300 iterations: 0.724962\n",
      "t-SNE plot saved to: ./invariant_tsne_slots/slot_features_tsne_6.png\n",
      "post_slots_28742.npy\n",
      "(192, 6, 128)\n",
      "[t-SNE] Computing 121 nearest neighbors...\n",
      "[t-SNE] Indexed 1152 samples in 0.000s...\n",
      "[t-SNE] Computed neighbors for 1152 samples in 0.012s...\n",
      "[t-SNE] Computed conditional probabilities for sample 1000 / 1152\n",
      "[t-SNE] Computed conditional probabilities for sample 1152 / 1152\n",
      "[t-SNE] Mean sigma: 1.116216\n"
     ]
    },
    {
     "name": "stderr",
     "output_type": "stream",
     "text": [
      "/var/folders/hy/1mkphk7j47n15fk8p9j53cg00000gn/T/ipykernel_57660/980317745.py:33: MatplotlibDeprecationWarning: The get_cmap function was deprecated in Matplotlib 3.7 and will be removed in 3.11. Use ``matplotlib.colormaps[name]`` or ``matplotlib.colormaps.get_cmap()`` or ``pyplot.get_cmap()`` instead.\n",
      "  colors = cm.get_cmap('tab10', num_slots)\n",
      "/Users/marinemoutarlier/miniconda3/envs/sklearn-env/lib/python3.13/site-packages/sklearn/manifold/_t_sne.py:1162: FutureWarning: 'n_iter' was renamed to 'max_iter' in version 1.5 and will be removed in 1.7.\n",
      "  warnings.warn(\n"
     ]
    },
    {
     "name": "stdout",
     "output_type": "stream",
     "text": [
      "[t-SNE] KL divergence after 250 iterations with early exaggeration: 59.805119\n",
      "[t-SNE] KL divergence after 300 iterations: 0.725814\n",
      "t-SNE plot saved to: ./invariant_tsne_slots/slot_features_tsne_7.png\n",
      "post_slots_32848.npy\n",
      "(192, 6, 128)\n",
      "[t-SNE] Computing 121 nearest neighbors...\n",
      "[t-SNE] Indexed 1152 samples in 0.000s...\n",
      "[t-SNE] Computed neighbors for 1152 samples in 0.012s...\n",
      "[t-SNE] Computed conditional probabilities for sample 1000 / 1152\n",
      "[t-SNE] Computed conditional probabilities for sample 1152 / 1152\n",
      "[t-SNE] Mean sigma: 1.109042\n"
     ]
    },
    {
     "name": "stderr",
     "output_type": "stream",
     "text": [
      "/var/folders/hy/1mkphk7j47n15fk8p9j53cg00000gn/T/ipykernel_57660/980317745.py:33: MatplotlibDeprecationWarning: The get_cmap function was deprecated in Matplotlib 3.7 and will be removed in 3.11. Use ``matplotlib.colormaps[name]`` or ``matplotlib.colormaps.get_cmap()`` or ``pyplot.get_cmap()`` instead.\n",
      "  colors = cm.get_cmap('tab10', num_slots)\n",
      "/Users/marinemoutarlier/miniconda3/envs/sklearn-env/lib/python3.13/site-packages/sklearn/manifold/_t_sne.py:1162: FutureWarning: 'n_iter' was renamed to 'max_iter' in version 1.5 and will be removed in 1.7.\n",
      "  warnings.warn(\n"
     ]
    },
    {
     "name": "stdout",
     "output_type": "stream",
     "text": [
      "[t-SNE] KL divergence after 250 iterations with early exaggeration: 59.313934\n",
      "[t-SNE] KL divergence after 300 iterations: 0.683853\n",
      "t-SNE plot saved to: ./invariant_tsne_slots/slot_features_tsne_8.png\n",
      "post_slots_36954.npy\n",
      "(192, 6, 128)\n",
      "[t-SNE] Computing 121 nearest neighbors...\n",
      "[t-SNE] Indexed 1152 samples in 0.000s...\n",
      "[t-SNE] Computed neighbors for 1152 samples in 0.011s...\n",
      "[t-SNE] Computed conditional probabilities for sample 1000 / 1152\n",
      "[t-SNE] Computed conditional probabilities for sample 1152 / 1152\n",
      "[t-SNE] Mean sigma: 1.067987\n"
     ]
    },
    {
     "name": "stderr",
     "output_type": "stream",
     "text": [
      "/var/folders/hy/1mkphk7j47n15fk8p9j53cg00000gn/T/ipykernel_57660/980317745.py:33: MatplotlibDeprecationWarning: The get_cmap function was deprecated in Matplotlib 3.7 and will be removed in 3.11. Use ``matplotlib.colormaps[name]`` or ``matplotlib.colormaps.get_cmap()`` or ``pyplot.get_cmap()`` instead.\n",
      "  colors = cm.get_cmap('tab10', num_slots)\n",
      "/Users/marinemoutarlier/miniconda3/envs/sklearn-env/lib/python3.13/site-packages/sklearn/manifold/_t_sne.py:1162: FutureWarning: 'n_iter' was renamed to 'max_iter' in version 1.5 and will be removed in 1.7.\n",
      "  warnings.warn(\n"
     ]
    },
    {
     "name": "stdout",
     "output_type": "stream",
     "text": [
      "[t-SNE] KL divergence after 250 iterations with early exaggeration: 56.920338\n",
      "[t-SNE] KL divergence after 300 iterations: 0.680737\n",
      "t-SNE plot saved to: ./invariant_tsne_slots/slot_features_tsne_9.png\n"
     ]
    },
    {
     "name": "stderr",
     "output_type": "stream",
     "text": [
      "/var/folders/hy/1mkphk7j47n15fk8p9j53cg00000gn/T/ipykernel_57660/980317745.py:33: MatplotlibDeprecationWarning: The get_cmap function was deprecated in Matplotlib 3.7 and will be removed in 3.11. Use ``matplotlib.colormaps[name]`` or ``matplotlib.colormaps.get_cmap()`` or ``pyplot.get_cmap()`` instead.\n",
      "  colors = cm.get_cmap('tab10', num_slots)\n"
     ]
    }
   ],
   "source": [
    "# load a folder and go through all the files in the folder that are named post_slots_i.npy\n",
    "\n",
    "# Compute the t-SNE embedding on the slot data \n",
    "# the shape of the np is (batch_size, 50, 6, 128)\n",
    "# Perform t-SNE embedding on the data, with batch size x 50 x6 as the number of data points and 128 as the number of dimensions\n",
    "\n",
    "# Reshape the data to have the batch size x 50 x 6 as the number of data points and 128 as the number of dimensions\n",
    "folder = \"/Users/marinemoutarlier/Desktop/invariant_tsne_npy\"\n",
    "def extract_numeric_value(filename):\n",
    "    return int(''.join(filter(str.isdigit, filename)))\n",
    "\n",
    "# Loop through the files in the folder, sorted by numeric values\n",
    "files = sorted(os.listdir(folder), key=extract_numeric_value)\n",
    "print(\"Found the following files:\", files)  # Debugging line to check the loaded filenames\n",
    "timestamp = 0 \n",
    "\n",
    "for filename in files:\n",
    "    if filename.startswith(\"post_slots_\"):\n",
    "        print(filename)\n",
    "        data_slots = np.load(os.path.join(folder, filename))\n",
    "        print(data_slots.shape)\n",
    "        B, S, D = data_slots.shape\n",
    "        data_2 = data_slots.reshape(B*S, D)\n",
    "\n",
    "        # Perform t-SNE embedding on the data\n",
    "\n",
    "        tsne = TSNE(n_components=2, verbose=1, perplexity=40, n_iter=300)\n",
    "        tsne_results = tsne.fit_transform(data_2)\n",
    "\n",
    "        # Perform t-SNE\n",
    "        # Generate colors: one for each slot\n",
    "        num_slots = 6\n",
    "        colors = cm.get_cmap('tab10', num_slots)  \n",
    "        slot_colors = [colors(i) for i in range(num_slots)]\n",
    "                    \n",
    "        # Plotting\n",
    "        plt.figure(figsize=(8, 8))\n",
    "        for i in range(num_slots):\n",
    "            slot_indices = np.arange(i, B*S, num_slots)\n",
    "            plt.scatter(tsne_results[slot_indices, 0], tsne_results[slot_indices, 1], s=30, alpha=0.6, label=f'Slot {i+1}', color=slot_colors[i])\n",
    "                    \n",
    "        # Add title and labels\n",
    "        plt.title('t-SNE Visualization of Slot Features')\n",
    "        plt.xlabel('t-SNE Component 1')\n",
    "        plt.ylabel('t-SNE Component 2')\n",
    "        plt.legend(loc='best')\n",
    "                    \n",
    "        # Save the plot\n",
    "        save_path = f'./invariant_tsne_slots/slot_features_tsne_{timestamp}.png'\n",
    "        os.makedirs(os.path.dirname(save_path), exist_ok=True)\n",
    "        plt.savefig(save_path)\n",
    "        plt.close()\n",
    "        timestamp += 1\n",
    "                    \n",
    "        print(f\"t-SNE plot saved to: {save_path}\")\n",
    "\n",
    "\n"
   ]
  }
 ],
 "metadata": {
  "kernelspec": {
   "display_name": "sklearn-env",
   "language": "python",
   "name": "python3"
  },
  "language_info": {
   "codemirror_mode": {
    "name": "ipython",
    "version": 3
   },
   "file_extension": ".py",
   "mimetype": "text/x-python",
   "name": "python",
   "nbconvert_exporter": "python",
   "pygments_lexer": "ipython3",
   "version": "3.13.0"
  }
 },
 "nbformat": 4,
 "nbformat_minor": 2
}
